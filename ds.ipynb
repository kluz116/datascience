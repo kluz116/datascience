{
 "cells": [
  {
   "cell_type": "code",
   "execution_count": null,
   "metadata": {
    "collapsed": true
   },
   "outputs": [],
   "source": [
    "import matplotlib.pyplot as plt\n",
    "\n",
    "month = ['Jan','Feb','Mar','Apr','May','June','July','Aug']\n",
    "sales = [20000,40000,50000,89020,90000,50000,40000,70000]\n",
    "\n",
    "plt.bar(month,sales)\n",
    "plt.title('Sales Made Per Month In YTD')\n",
    "plt.ylabel('Sales YTD')\n",
    "plt.xlabel('Month')\n",
    "plt.show()"
   ]
  }
 ],
 "metadata": {
  "kernelspec": {
   "display_name": "Python 2",
   "language": "python",
   "name": "python2"
  },
  "language_info": {
   "codemirror_mode": {
    "name": "ipython",
    "version": 2
   },
   "file_extension": ".py",
   "mimetype": "text/x-python",
   "name": "python",
   "nbconvert_exporter": "python",
   "pygments_lexer": "ipython2",
   "version": "2.7.6"
  }
 },
 "nbformat": 4,
 "nbformat_minor": 0
}
